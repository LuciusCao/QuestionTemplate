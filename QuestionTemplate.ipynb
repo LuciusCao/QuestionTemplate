{
 "cells": [
  {
   "cell_type": "code",
   "execution_count": 1,
   "metadata": {},
   "outputs": [],
   "source": [
    "import re\n",
    "import json\n",
    "import random"
   ]
  },
  {
   "cell_type": "code",
   "execution_count": 2,
   "metadata": {},
   "outputs": [],
   "source": [
    "template_fib = \"\"\"\n",
    "{\n",
    "    \"模板\": \"填空题\",\n",
    "    \"题干\": \"计算<x*a>÷<b>×<z*c>÷<a>×<y*b>÷<c>=___。\",\n",
    "    \"知识点\": \"乘法交换律\",\n",
    "    \"思路\": \"可以将原式化简，化成分数的形式，然后再约分，不难求得结果。\",\n",
    "    \"答案\": \"<x*y*z>\",\n",
    "    \"解析\": \"解：根据分析，原式=<x*a>÷<b>×<z*c>÷<a>×<y*b>÷<c>\\\n",
    "            =(<x*a>×<y*b>×<z*b>)÷(<a>×<b>×<c>)\\\n",
    "            =<x*y*z>\",\n",
    "    \"变量\": {\n",
    "        \"x\": \"整数 1 3\",\n",
    "        \"y\": \"整数 2 4\",\n",
    "        \"z\": \"整数 1 2\",\n",
    "        \"a\": \"整数 100 333\",\n",
    "        \"b\": \"整数 50 250\",\n",
    "        \"c\": \"整数 100 433\"\n",
    "    }\n",
    "}\n",
    "\"\"\""
   ]
  },
  {
   "cell_type": "code",
   "execution_count": 3,
   "metadata": {},
   "outputs": [],
   "source": [
    "template_mc = \"\"\"\n",
    "{\n",
    "    \"模板\": \"选择题\",\n",
    "    \"题干\": \"计算<x*a>÷<b>×<z*c>÷<a>×<y*b>÷<c>=___。\",\n",
    "    \"知识点\": \"乘法交换律\",\n",
    "    \"思路\": \"可以将原式化简，化成分数的形式，然后再约分，不难求得结果。\",\n",
    "    \"选项\": {\n",
    "        \"A\": \"<x+y+z>\",\n",
    "        \"B\": \"<x*y*z>\"\n",
    "    },\n",
    "    \"答案\": \"<x*y*z>\",\n",
    "    \"解析\": \"解：根据分析，原式=<x*a>÷<b>×<z*c>÷<a>×<y*b>÷<c>\\\n",
    "            =(<x*a>×<y*b>×<z*b>)÷(<a>×<b>×<c>)\\\n",
    "            =<x*y*z>\",\n",
    "    \"变量\": {\n",
    "        \"x\": \"整数 1 3\",\n",
    "        \"y\": \"整数 2 4\",\n",
    "        \"z\": \"整数 1 2\",\n",
    "        \"a\": \"整数 100 333\",\n",
    "        \"b\": \"整数 50 250\",\n",
    "        \"c\": \"整数 100 433\"\n",
    "    }\n",
    "}\n",
    "\"\"\""
   ]
  },
  {
   "cell_type": "code",
   "execution_count": 4,
   "metadata": {},
   "outputs": [],
   "source": [
    "fib_raw = json.loads(template_fib)"
   ]
  },
  {
   "cell_type": "code",
   "execution_count": 5,
   "metadata": {},
   "outputs": [],
   "source": [
    "mc_raw = json.loads(template_mc)"
   ]
  },
  {
   "cell_type": "code",
   "execution_count": 6,
   "metadata": {
    "scrolled": true
   },
   "outputs": [
    {
     "name": "stdout",
     "output_type": "stream",
     "text": [
      "{'模板': '填空题', '题干': '计算<x*a>÷<b>×<z*c>÷<a>×<y*b>÷<c>=___。', '知识点': '乘法交换律', '思路': '可以将原式化简，化成分数的形式，然后再约分，不难求得结果。', '答案': '<x*y*z>', '解析': '解：根据分析，原式=<x*a>÷<b>×<z*c>÷<a>×<y*b>÷<c>            =(<x*a>×<y*b>×<z*b>)÷(<a>×<b>×<c>)            =<x*y*z>', '变量': {'x': '整数 1 3', 'y': '整数 2 4', 'z': '整数 1 2', 'a': '整数 100 333', 'b': '整数 50 250', 'c': '整数 100 433'}}\n"
     ]
    }
   ],
   "source": [
    "print(fib_raw)"
   ]
  },
  {
   "cell_type": "code",
   "execution_count": 7,
   "metadata": {},
   "outputs": [
    {
     "name": "stdout",
     "output_type": "stream",
     "text": [
      "{'模板': '选择题', '题干': '计算<x*a>÷<b>×<z*c>÷<a>×<y*b>÷<c>=___。', '知识点': '乘法交换律', '思路': '可以将原式化简，化成分数的形式，然后再约分，不难求得结果。', '选项': {'A': '<x+y+z>', 'B': '<x*y*z>'}, '答案': '<x*y*z>', '解析': '解：根据分析，原式=<x*a>÷<b>×<z*c>÷<a>×<y*b>÷<c>            =(<x*a>×<y*b>×<z*b>)÷(<a>×<b>×<c>)            =<x*y*z>', '变量': {'x': '整数 1 3', 'y': '整数 2 4', 'z': '整数 1 2', 'a': '整数 100 333', 'b': '整数 50 250', 'c': '整数 100 433'}}\n"
     ]
    }
   ],
   "source": [
    "print(mc_raw)"
   ]
  },
  {
   "cell_type": "code",
   "execution_count": 8,
   "metadata": {},
   "outputs": [],
   "source": [
    "from QTemplate.question_template import QuestionTemplate"
   ]
  },
  {
   "cell_type": "code",
   "execution_count": 9,
   "metadata": {},
   "outputs": [],
   "source": [
    "fib_temp = QuestionTemplate(fib_raw)"
   ]
  },
  {
   "cell_type": "code",
   "execution_count": 10,
   "metadata": {},
   "outputs": [],
   "source": [
    "mc_temp = QuestionTemplate(mc_raw)"
   ]
  },
  {
   "cell_type": "code",
   "execution_count": 11,
   "metadata": {},
   "outputs": [
    {
     "data": {
      "text/plain": [
       "{'a': 310, 'b': 219, 'c': 182, 'x': 3, 'y': 4, 'z': 2}"
      ]
     },
     "execution_count": 11,
     "metadata": {},
     "output_type": "execute_result"
    }
   ],
   "source": [
    "fib_temp.variables"
   ]
  },
  {
   "cell_type": "code",
   "execution_count": 12,
   "metadata": {},
   "outputs": [
    {
     "data": {
      "text/plain": [
       "{'a': 270, 'b': 134, 'c': 283, 'x': 3, 'y': 3, 'z': 1}"
      ]
     },
     "execution_count": 12,
     "metadata": {},
     "output_type": "execute_result"
    }
   ],
   "source": [
    "mc_temp.variables"
   ]
  },
  {
   "cell_type": "code",
   "execution_count": 14,
   "metadata": {},
   "outputs": [
    {
     "name": "stdout",
     "output_type": "stream",
     "text": [
      "计算930÷219×364÷310×876÷182=___。\n",
      "可以将原式化简，化成分数的形式，然后再约分，不难求得结果。\n",
      "24\n",
      "解：根据分析，原式=930÷219×364÷310×876÷182            =(930×876×438)÷(310×219×182)            =24\n"
     ]
    }
   ],
   "source": [
    "fib_temp.generate()"
   ]
  },
  {
   "cell_type": "code",
   "execution_count": 15,
   "metadata": {},
   "outputs": [
    {
     "name": "stdout",
     "output_type": "stream",
     "text": [
      "计算810÷134×283÷270×402÷283=___。\n",
      "可以将原式化简，化成分数的形式，然后再约分，不难求得结果。\n",
      "9\n",
      "解：根据分析，原式=810÷134×283÷270×402÷283            =(810×402×134)÷(270×134×283)            =9\n",
      "{'A': '7', 'B': '9'}\n"
     ]
    }
   ],
   "source": [
    "mc_temp.generate()"
   ]
  },
  {
   "cell_type": "code",
   "execution_count": 1,
   "metadata": {},
   "outputs": [],
   "source": [
    "from sqlalchemy.ext.declarative import declarative_base\n",
    "Base = declarative_base()"
   ]
  },
  {
   "cell_type": "code",
   "execution_count": null,
   "metadata": {},
   "outputs": [],
   "source": []
  }
 ],
 "metadata": {
  "kernelspec": {
   "display_name": "Python 3",
   "language": "python",
   "name": "python3"
  },
  "language_info": {
   "codemirror_mode": {
    "name": "ipython",
    "version": 3
   },
   "file_extension": ".py",
   "mimetype": "text/x-python",
   "name": "python",
   "nbconvert_exporter": "python",
   "pygments_lexer": "ipython3",
   "version": "3.6.3"
  }
 },
 "nbformat": 4,
 "nbformat_minor": 2
}
