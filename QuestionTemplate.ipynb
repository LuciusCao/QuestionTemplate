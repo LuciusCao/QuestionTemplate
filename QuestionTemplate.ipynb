{
 "cells": [
  {
   "cell_type": "code",
   "execution_count": 56,
   "metadata": {},
   "outputs": [],
   "source": [
    "import re\n",
    "import json\n",
    "import random"
   ]
  },
  {
   "cell_type": "code",
   "execution_count": 229,
   "metadata": {},
   "outputs": [],
   "source": [
    "template_fib = \"\"\"\n",
    "{\n",
    "    \"模板\": \"填空题\",\n",
    "    \"题干\": \"计算<x*a>÷<b>×<z*c>÷<a>×<y*b>÷<c>=___。\",\n",
    "    \"知识点\": \"乘法交换律\",\n",
    "    \"思路\": \"可以将原式化简，化成分数的形式，然后再约分，不难求得结果。\",\n",
    "    \"答案\": \"<x*y*z>\",\n",
    "    \"解析\": \"解：根据分析，原式=<x*a>÷<b>×<z*c>÷<a>×<y*b>÷<c>\\\n",
    "            =(<x*a>×<y*b>×<z*b>)÷(<a>×<b>×<c>)\\\n",
    "            =<x*y*z>\",\n",
    "    \"变量\": {\n",
    "        \"x\": \"random int from 1 to 3\",\n",
    "        \"y\": \"random int from 2 to 4\",\n",
    "        \"z\": \"random int from 1 to 2\",\n",
    "        \"a\": \"random int from 100 to 333\",\n",
    "        \"b\": \"random int from 50 to 250\",\n",
    "        \"c\": \"random int from 100 to 433\"\n",
    "    }\n",
    "}\n",
    "\"\"\""
   ]
  },
  {
   "cell_type": "code",
   "execution_count": 230,
   "metadata": {},
   "outputs": [],
   "source": [
    "fib_raw = json.loads(template_fib)"
   ]
  },
  {
   "cell_type": "code",
   "execution_count": 231,
   "metadata": {},
   "outputs": [
    {
     "name": "stdout",
     "output_type": "stream",
     "text": [
      "{'模板': '填空题', '题干': '计算<x*a>÷<b>×<z*c>÷<a>×<y*b>÷<c>=___。', '知识点': '乘法交换律', '思路': '可以将原式化简，化成分数的形式，然后再约分，不难求得结果。', '答案': '<x*y*z>', '解析': '解：根据分析，原式=<x*a>÷<b>×<z*c>÷<a>×<y*b>÷<c>            =(<x*a>×<y*b>×<z*b>)÷(<a>×<b>×<c>)            =<x*y*z>', '变量': {'x': 'random int from 1 to 3', 'y': 'random int from 2 to 4', 'z': 'random int from 1 to 2', 'a': 'random int from 100 to 333', 'b': 'random int from 50 to 250', 'c': 'random int from 100 to 433'}}\n"
     ]
    }
   ],
   "source": [
    "print(fib_raw)"
   ]
  },
  {
   "cell_type": "code",
   "execution_count": 260,
   "metadata": {},
   "outputs": [],
   "source": [
    "class QuestionTemplate:\n",
    "    def __init__(self, params):\n",
    "        self.template = params['模板']\n",
    "        self.__body_raw = params['题干']\n",
    "        self.knowledge = params['知识点']\n",
    "        self.__hint_raw = params['思路']\n",
    "        self.__key_raw = params['答案']\n",
    "        self.__explanation_raw = params['解析']\n",
    "        self.__variables_raw = params['变量']\n",
    "        \n",
    "        self.variables = self.__parse_variable()\n",
    "        self.body = self.__content_constructor(self.__body_raw)\n",
    "        self.hint = self.__content_constructor(self.__hint_raw)\n",
    "        self.key = self.__content_constructor(self.__key_raw)\n",
    "        self.explanation = self.__content_constructor(self.__explanation_raw)\n",
    "        \n",
    "    def roll(self):\n",
    "        var = self.__parse_variable()\n",
    "        self.variables = var\n",
    "        \n",
    "    def generate(self):\n",
    "        pass\n",
    "            \n",
    "    def __content_constructor(self, content):\n",
    "        expressions = self.__expression_parser(content)\n",
    "        content_wo_data = self.__string_constructor(content)\n",
    "        calced_expressions = self.__expr_calc(expressions)\n",
    "        return content_wo_data.format(*calced_expressions)\n",
    "    \n",
    "    def __expr_calc(self, exprs):\n",
    "        var_name = list(self.__variables_raw.keys())\n",
    "        for v in var_name:\n",
    "            exprs = [re.sub(v, str(self.variables[v]), e) for e in exprs]\n",
    "        result = [eval(e) for e in exprs]\n",
    "        return result\n",
    "    \n",
    "    def __expression_parser(self, content):\n",
    "        pattern = r'(?<=<).+?(?=>)+?'\n",
    "        return re.findall(pattern, content)\n",
    "    \n",
    "    def __string_constructor(self, content):\n",
    "        pattern = r'(<.+?>)+?'\n",
    "        replacement = '{}'\n",
    "        return re.sub(pattern, replacement, content)\n",
    "    \n",
    "    def __parse_variable(self):\n",
    "        variables = self.__variables_raw.copy()\n",
    "        for key, value in variables.items():\n",
    "            variables[key] = self.__rule_parser(value)\n",
    "        return variables\n",
    "\n",
    "    def __rule_parser(self, rule):\n",
    "        tokens = rule.split()\n",
    "        d_type = 'int' # use int if not specified\n",
    "        if 'float' in tokens:\n",
    "            d_type = 'float'\n",
    "            \n",
    "        use_random = 'random' in tokens # use random number if random is found in tokens\n",
    "        if use_random:\n",
    "            assert('from' in tokens and 'to' in tokens)\n",
    "            floor = int(re.findall(r'(?<=from).(\\d+)', rule)[0])\n",
    "            ceil = int(re.findall(r'(?<=to).(\\d+)',rule)[0])\n",
    "            if d_type == 'int':\n",
    "                return random.randint(floor, ceil)\n",
    "            else:\n",
    "                return random.random * (ceil - floor) + floor\n",
    "        else:\n",
    "            number = re.findall(r'\\d+', rule)[0]\n",
    "            return eval('{}(number)'.format(d_type))"
   ]
  },
  {
   "cell_type": "code",
   "execution_count": 261,
   "metadata": {},
   "outputs": [
    {
     "name": "stdout",
     "output_type": "stream",
     "text": [
      "['x*a', 'b', 'z*c', 'a', 'y*b', 'c']\n",
      "计算{}÷{}×{}÷{}×{}÷{}=___。\n",
      "[222, 230, 125, 111, 920, 125]\n",
      "[]\n",
      "可以将原式化简，化成分数的形式，然后再约分，不难求得结果。\n",
      "[]\n",
      "['x*y*z']\n",
      "{}\n",
      "[8]\n",
      "['x*a', 'b', 'z*c', 'a', 'y*b', 'c', 'x*a', 'y*b', 'z*b', 'a', 'b', 'c', 'x*y*z']\n",
      "解：根据分析，原式={}÷{}×{}÷{}×{}÷{}            =({}×{}×{})÷({}×{}×{})            ={}\n",
      "[222, 230, 125, 111, 920, 125, 222, 920, 230, 111, 230, 125, 8]\n"
     ]
    }
   ],
   "source": [
    "template = QuestionTemplate(fib_raw)"
   ]
  },
  {
   "cell_type": "code",
   "execution_count": 241,
   "metadata": {},
   "outputs": [
    {
     "data": {
      "text/plain": [
       "295"
      ]
     },
     "execution_count": 241,
     "metadata": {},
     "output_type": "execute_result"
    }
   ],
   "source": [
    "template.variables[\"a\"]"
   ]
  },
  {
   "cell_type": "code",
   "execution_count": 224,
   "metadata": {},
   "outputs": [],
   "source": [
    "template.roll()"
   ]
  }
 ],
 "metadata": {
  "kernelspec": {
   "display_name": "Python 3",
   "language": "python",
   "name": "python3"
  },
  "language_info": {
   "codemirror_mode": {
    "name": "ipython",
    "version": 3
   },
   "file_extension": ".py",
   "mimetype": "text/x-python",
   "name": "python",
   "nbconvert_exporter": "python",
   "pygments_lexer": "ipython3",
   "version": "3.6.1"
  }
 },
 "nbformat": 4,
 "nbformat_minor": 2
}
