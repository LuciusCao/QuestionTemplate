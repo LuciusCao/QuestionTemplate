{
 "cells": [
  {
   "cell_type": "code",
   "execution_count": 1,
   "metadata": {},
   "outputs": [],
   "source": [
    "import re\n",
    "import json\n",
    "import random"
   ]
  },
  {
   "cell_type": "code",
   "execution_count": 2,
   "metadata": {},
   "outputs": [],
   "source": [
    "template_fib = \"\"\"\n",
    "{\n",
    "    \"模板\": \"填空题\",\n",
    "    \"题干\": \"计算<x*a>÷<b>×<z*c>÷<a>×<y*b>÷<c>=___。\",\n",
    "    \"知识点\": \"乘法交换律\",\n",
    "    \"思路\": \"可以将原式化简，化成分数的形式，然后再约分，不难求得结果。\",\n",
    "    \"答案\": \"<x*y*z>\",\n",
    "    \"解析\": \"解：根据分析，原式=<x*a>÷<b>×<z*c>÷<a>×<y*b>÷<c>\\\n",
    "            =(<x*a>×<y*b>×<z*b>)÷(<a>×<b>×<c>)\\\n",
    "            =<x*y*z>\",\n",
    "    \"变量\": {\n",
    "        \"x\": \"random int from 1 to 3\",\n",
    "        \"y\": \"random int from 2 to 4\",\n",
    "        \"z\": \"random int from 1 to 2\",\n",
    "        \"a\": \"random int from 100 to 333\",\n",
    "        \"b\": \"random int from 50 to 250\",\n",
    "        \"c\": \"random int from 100 to 433\"\n",
    "    }\n",
    "}\n",
    "\"\"\""
   ]
  },
  {
   "cell_type": "code",
   "execution_count": 3,
   "metadata": {},
   "outputs": [],
   "source": [
    "template_mc = \"\"\"\n",
    "{\n",
    "    \"模板\": \"选择题\",\n",
    "    \"题干\": \"计算<x*a>÷<b>×<z*c>÷<a>×<y*b>÷<c>=___。\",\n",
    "    \"知识点\": \"乘法交换律\",\n",
    "    \"思路\": \"可以将原式化简，化成分数的形式，然后再约分，不难求得结果。\",\n",
    "    \"选项\": {\n",
    "        \"A\": \"<x+y+z>\",\n",
    "        \"B\": \"<x*y*z>\"\n",
    "    },\n",
    "    \"答案\": \"<x*y*z>\",\n",
    "    \"解析\": \"解：根据分析，原式=<x*a>÷<b>×<z*c>÷<a>×<y*b>÷<c>\\\n",
    "            =(<x*a>×<y*b>×<z*b>)÷(<a>×<b>×<c>)\\\n",
    "            =<x*y*z>\",\n",
    "    \"变量\": {\n",
    "        \"x\": \"random int from 1 to 3\",\n",
    "        \"y\": \"random int from 2 to 4\",\n",
    "        \"z\": \"random int from 1 to 2\",\n",
    "        \"a\": \"random int from 100 to 333\",\n",
    "        \"b\": \"random int from 50 to 250\",\n",
    "        \"c\": \"random int from 100 to 433\"\n",
    "    }\n",
    "}\n",
    "\"\"\""
   ]
  },
  {
   "cell_type": "code",
   "execution_count": 4,
   "metadata": {},
   "outputs": [],
   "source": [
    "fib_raw = json.loads(template_fib)"
   ]
  },
  {
   "cell_type": "code",
   "execution_count": 5,
   "metadata": {},
   "outputs": [],
   "source": [
    "mc_raw = json.loads(template_mc)"
   ]
  },
  {
   "cell_type": "code",
   "execution_count": 6,
   "metadata": {
    "scrolled": true
   },
   "outputs": [
    {
     "name": "stdout",
     "output_type": "stream",
     "text": [
      "{'模板': '填空题', '题干': '计算<x*a>÷<b>×<z*c>÷<a>×<y*b>÷<c>=___。', '知识点': '乘法交换律', '思路': '可以将原式化简，化成分数的形式，然后再约分，不难求得结果。', '答案': '<x*y*z>', '解析': '解：根据分析，原式=<x*a>÷<b>×<z*c>÷<a>×<y*b>÷<c>            =(<x*a>×<y*b>×<z*b>)÷(<a>×<b>×<c>)            =<x*y*z>', '变量': {'x': 'random int from 1 to 3', 'y': 'random int from 2 to 4', 'z': 'random int from 1 to 2', 'a': 'random int from 100 to 333', 'b': 'random int from 50 to 250', 'c': 'random int from 100 to 433'}}\n"
     ]
    }
   ],
   "source": [
    "print(fib_raw)"
   ]
  },
  {
   "cell_type": "code",
   "execution_count": 7,
   "metadata": {},
   "outputs": [
    {
     "name": "stdout",
     "output_type": "stream",
     "text": [
      "{'模板': '选择题', '题干': '计算<x*a>÷<b>×<z*c>÷<a>×<y*b>÷<c>=___。', '知识点': '乘法交换律', '思路': '可以将原式化简，化成分数的形式，然后再约分，不难求得结果。', '选项': {'A': '<x+y+z>', 'B': '<x*y*z>'}, '答案': '<x*y*z>', '解析': '解：根据分析，原式=<x*a>÷<b>×<z*c>÷<a>×<y*b>÷<c>            =(<x*a>×<y*b>×<z*b>)÷(<a>×<b>×<c>)            =<x*y*z>', '变量': {'x': 'random int from 1 to 3', 'y': 'random int from 2 to 4', 'z': 'random int from 1 to 2', 'a': 'random int from 100 to 333', 'b': 'random int from 50 to 250', 'c': 'random int from 100 to 433'}}\n"
     ]
    }
   ],
   "source": [
    "print(mc_raw)"
   ]
  },
  {
   "cell_type": "code",
   "execution_count": 8,
   "metadata": {},
   "outputs": [],
   "source": [
    "from QTemplate.question_template import QuestionTemplate"
   ]
  },
  {
   "cell_type": "code",
   "execution_count": 9,
   "metadata": {},
   "outputs": [],
   "source": [
    "fib_temp = QuestionTemplate(fib_raw)"
   ]
  },
  {
   "cell_type": "code",
   "execution_count": 10,
   "metadata": {},
   "outputs": [],
   "source": [
    "mc_temp = QuestionTemplate(mc_raw)"
   ]
  },
  {
   "cell_type": "code",
   "execution_count": 11,
   "metadata": {},
   "outputs": [
    {
     "data": {
      "text/plain": [
       "{'a': 154, 'b': 220, 'c': 136, 'x': 2, 'y': 4, 'z': 2}"
      ]
     },
     "execution_count": 11,
     "metadata": {},
     "output_type": "execute_result"
    }
   ],
   "source": [
    "fib_temp.variables"
   ]
  },
  {
   "cell_type": "code",
   "execution_count": 12,
   "metadata": {},
   "outputs": [
    {
     "data": {
      "text/plain": [
       "{'a': 166, 'b': 153, 'c': 118, 'x': 3, 'y': 3, 'z': 2}"
      ]
     },
     "execution_count": 12,
     "metadata": {},
     "output_type": "execute_result"
    }
   ],
   "source": [
    "mc_temp.variables"
   ]
  },
  {
   "cell_type": "code",
   "execution_count": 13,
   "metadata": {},
   "outputs": [
    {
     "name": "stdout",
     "output_type": "stream",
     "text": [
      "计算498÷153×236÷166×459÷118=___。\n",
      "可以将原式化简，化成分数的形式，然后再约分，不难求得结果。\n",
      "18\n",
      "解：根据分析，原式=498÷153×236÷166×459÷118            =(498×459×306)÷(166×153×118)            =18\n",
      "{'A': '8', 'B': '18'}\n"
     ]
    }
   ],
   "source": [
    "mc_temp.generate()"
   ]
  },
  {
   "cell_type": "markdown",
   "metadata": {},
   "source": [
    "======**以下是Lark Parser的实验**======"
   ]
  },
  {
   "cell_type": "code",
   "execution_count": 3,
   "metadata": {},
   "outputs": [],
   "source": [
    "from lark import Lark\n",
    "import random"
   ]
  },
  {
   "cell_type": "code",
   "execution_count": 4,
   "metadata": {},
   "outputs": [],
   "source": [
    "grammar = \"\"\"\n",
    "start: syntax\n",
    "\n",
    "syntax: \"整数\" NUMBER NUMBER -> int\n",
    "      | \"小数\" NUMBER NUMBER NUMBER -> float\n",
    "      | \"分数\" NUMBER NUMBER -> fraction\n",
    "      | \"质数\" NUMBER NUMBER -> prime\n",
    "\n",
    "%import common.INT -> NUMBER\n",
    "%import common.WS\n",
    "%ignore WS\n",
    "\"\"\""
   ]
  },
  {
   "cell_type": "code",
   "execution_count": 5,
   "metadata": {},
   "outputs": [
    {
     "data": {
      "text/plain": [
       "<lark.lark.Lark at 0x10926c208>"
      ]
     },
     "execution_count": 5,
     "metadata": {},
     "output_type": "execute_result"
    }
   ],
   "source": [
    "Lark(grammar)"
   ]
  },
  {
   "cell_type": "code",
   "execution_count": 6,
   "metadata": {},
   "outputs": [],
   "source": [
    "parser = Lark(grammar)"
   ]
  },
  {
   "cell_type": "code",
   "execution_count": 7,
   "metadata": {},
   "outputs": [
    {
     "name": "stdout",
     "output_type": "stream",
     "text": [
      "start\n",
      "  int\n",
      "    10\n",
      "    30\n",
      "\n"
     ]
    }
   ],
   "source": [
    "parse_tree = parser.parse('整数 10 30')\n",
    "print(parser.parse('整数 10 30').pretty())"
   ]
  },
  {
   "cell_type": "code",
   "execution_count": 13,
   "metadata": {},
   "outputs": [
    {
     "data": {
      "text/plain": [
       "'int'"
      ]
     },
     "execution_count": 13,
     "metadata": {},
     "output_type": "execute_result"
    }
   ],
   "source": [
    "parse_tree.children[0].data"
   ]
  },
  {
   "cell_type": "code",
   "execution_count": 60,
   "metadata": {},
   "outputs": [],
   "source": [
    "t = parse_tree.children[0].children[0]"
   ]
  },
  {
   "cell_type": "code",
   "execution_count": 63,
   "metadata": {},
   "outputs": [
    {
     "data": {
      "text/plain": [
       "10"
      ]
     },
     "execution_count": 63,
     "metadata": {},
     "output_type": "execute_result"
    }
   ],
   "source": [
    "int(t)"
   ]
  },
  {
   "cell_type": "code",
   "execution_count": 76,
   "metadata": {},
   "outputs": [],
   "source": [
    "def run_command(parse_tree):\n",
    "    if parse_tree.data == 'int':\n",
    "        interval = parse_tree.children\n",
    "        floor = int(interval[0])\n",
    "        ceil = int(interval[1])\n",
    "        return random.randint(floor, ceil)"
   ]
  },
  {
   "cell_type": "code",
   "execution_count": 77,
   "metadata": {},
   "outputs": [],
   "source": [
    "tree = parse_tree.children[0]"
   ]
  },
  {
   "cell_type": "code",
   "execution_count": 78,
   "metadata": {},
   "outputs": [
    {
     "data": {
      "text/plain": [
       "23"
      ]
     },
     "execution_count": 78,
     "metadata": {},
     "output_type": "execute_result"
    }
   ],
   "source": [
    "run_command(tree)"
   ]
  },
  {
   "cell_type": "code",
   "execution_count": 79,
   "metadata": {},
   "outputs": [],
   "source": [
    "import math"
   ]
  },
  {
   "cell_type": "code",
   "execution_count": 82,
   "metadata": {},
   "outputs": [
    {
     "data": {
      "text/plain": [
       "3.44"
      ]
     },
     "execution_count": 82,
     "metadata": {},
     "output_type": "execute_result"
    }
   ],
   "source": [
    "round(3.44445,2)"
   ]
  },
  {
   "cell_type": "code",
   "execution_count": 1,
   "metadata": {},
   "outputs": [],
   "source": [
    "from QTemplate import parser"
   ]
  },
  {
   "cell_type": "code",
   "execution_count": 2,
   "metadata": {},
   "outputs": [
    {
     "ename": "NameError",
     "evalue": "name 'paser' is not defined",
     "output_type": "error",
     "traceback": [
      "\u001b[0;31m---------------------------------------------------------------------------\u001b[0m",
      "\u001b[0;31mNameError\u001b[0m                                 Traceback (most recent call last)",
      "\u001b[0;32m<ipython-input-2-fff4d05a460e>\u001b[0m in \u001b[0;36m<module>\u001b[0;34m()\u001b[0m\n\u001b[0;32m----> 1\u001b[0;31m \u001b[0mpaser\u001b[0m\u001b[0;34m\u001b[0m\u001b[0m\n\u001b[0m",
      "\u001b[0;31mNameError\u001b[0m: name 'paser' is not defined"
     ]
    }
   ],
   "source": [
    "paser"
   ]
  },
  {
   "cell_type": "code",
   "execution_count": 1,
   "metadata": {},
   "outputs": [],
   "source": [
    "from QTemplate.parser import run_command"
   ]
  },
  {
   "cell_type": "code",
   "execution_count": 2,
   "metadata": {},
   "outputs": [
    {
     "ename": "TypeError",
     "evalue": "unsupported operand type(s) for *: 'builtin_function_or_method' and 'int'",
     "output_type": "error",
     "traceback": [
      "\u001b[0;31m---------------------------------------------------------------------------\u001b[0m",
      "\u001b[0;31mTypeError\u001b[0m                                 Traceback (most recent call last)",
      "\u001b[0;32m<ipython-input-2-c78e7681c915>\u001b[0m in \u001b[0;36m<module>\u001b[0;34m()\u001b[0m\n\u001b[0;32m----> 1\u001b[0;31m \u001b[0mrun_command\u001b[0m\u001b[0;34m(\u001b[0m\u001b[0;34m'小数 1 10 3'\u001b[0m\u001b[0;34m)\u001b[0m\u001b[0;34m\u001b[0m\u001b[0m\n\u001b[0m",
      "\u001b[0;32m~/GitHub/QuestionTemplate/QTemplate/parser.py\u001b[0m in \u001b[0;36mrun_command\u001b[0;34m(command, random_state)\u001b[0m\n\u001b[1;32m     26\u001b[0m     \u001b[0mcmd\u001b[0m \u001b[0;34m=\u001b[0m \u001b[0mtree\u001b[0m\u001b[0;34m[\u001b[0m\u001b[0;36m0\u001b[0m\u001b[0;34m]\u001b[0m\u001b[0;34m\u001b[0m\u001b[0m\n\u001b[1;32m     27\u001b[0m \u001b[0;34m\u001b[0m\u001b[0m\n\u001b[0;32m---> 28\u001b[0;31m     \u001b[0;32mreturn\u001b[0m \u001b[0mrun_syntax\u001b[0m\u001b[0;34m(\u001b[0m\u001b[0mcmd\u001b[0m\u001b[0;34m,\u001b[0m \u001b[0mrandom_state\u001b[0m\u001b[0;34m=\u001b[0m\u001b[0mrandom_state\u001b[0m\u001b[0;34m)\u001b[0m\u001b[0;34m\u001b[0m\u001b[0m\n\u001b[0m\u001b[1;32m     29\u001b[0m \u001b[0;34m\u001b[0m\u001b[0m\n\u001b[1;32m     30\u001b[0m \u001b[0;34m\u001b[0m\u001b[0m\n",
      "\u001b[0;32m~/GitHub/QuestionTemplate/QTemplate/parser.py\u001b[0m in \u001b[0;36mrun_syntax\u001b[0;34m(cmd, random_state)\u001b[0m\n\u001b[1;32m     39\u001b[0m     \u001b[0;32melif\u001b[0m \u001b[0mcmd\u001b[0m\u001b[0;34m.\u001b[0m\u001b[0mdata\u001b[0m \u001b[0;34m==\u001b[0m \u001b[0;34m'float'\u001b[0m\u001b[0;34m:\u001b[0m\u001b[0;34m\u001b[0m\u001b[0m\n\u001b[1;32m     40\u001b[0m         \u001b[0margs\u001b[0m \u001b[0;34m=\u001b[0m \u001b[0mcmd\u001b[0m\u001b[0;34m.\u001b[0m\u001b[0mchildren\u001b[0m\u001b[0;34m\u001b[0m\u001b[0m\n\u001b[0;32m---> 41\u001b[0;31m         \u001b[0;32mreturn\u001b[0m \u001b[0mgenerate_float\u001b[0m\u001b[0;34m(\u001b[0m\u001b[0margs\u001b[0m\u001b[0;34m)\u001b[0m\u001b[0;34m\u001b[0m\u001b[0m\n\u001b[0m\u001b[1;32m     42\u001b[0m \u001b[0;34m\u001b[0m\u001b[0m\n\u001b[1;32m     43\u001b[0m     \u001b[0;32melif\u001b[0m \u001b[0mcmd\u001b[0m\u001b[0;34m.\u001b[0m\u001b[0mdata\u001b[0m \u001b[0;34m==\u001b[0m \u001b[0;34m'fraction'\u001b[0m\u001b[0;34m:\u001b[0m\u001b[0;34m\u001b[0m\u001b[0m\n",
      "\u001b[0;32m~/GitHub/QuestionTemplate/QTemplate/parser.py\u001b[0m in \u001b[0;36mgenerate_float\u001b[0;34m(args)\u001b[0m\n\u001b[1;32m     65\u001b[0m     \u001b[0macc\u001b[0m \u001b[0;34m=\u001b[0m \u001b[0mint\u001b[0m\u001b[0;34m(\u001b[0m\u001b[0margs\u001b[0m\u001b[0;34m[\u001b[0m\u001b[0;36m2\u001b[0m\u001b[0;34m]\u001b[0m\u001b[0;34m)\u001b[0m\u001b[0;34m\u001b[0m\u001b[0m\n\u001b[1;32m     66\u001b[0m     \u001b[0mcheck_interval\u001b[0m\u001b[0;34m(\u001b[0m\u001b[0mfloor\u001b[0m\u001b[0;34m,\u001b[0m \u001b[0mceil\u001b[0m\u001b[0;34m)\u001b[0m\u001b[0;34m\u001b[0m\u001b[0m\n\u001b[0;32m---> 67\u001b[0;31m     \u001b[0mrand_float\u001b[0m \u001b[0;34m=\u001b[0m \u001b[0mrandom\u001b[0m\u001b[0;34m.\u001b[0m\u001b[0mrandom\u001b[0m \u001b[0;34m*\u001b[0m \u001b[0;34m(\u001b[0m\u001b[0mceil\u001b[0m \u001b[0;34m-\u001b[0m \u001b[0mfloor\u001b[0m\u001b[0;34m)\u001b[0m \u001b[0;34m+\u001b[0m \u001b[0mfloor\u001b[0m\u001b[0;34m\u001b[0m\u001b[0m\n\u001b[0m\u001b[1;32m     68\u001b[0m     \u001b[0;32mreturn\u001b[0m \u001b[0mround\u001b[0m\u001b[0;34m(\u001b[0m\u001b[0mrand_float\u001b[0m\u001b[0;34m,\u001b[0m \u001b[0macc\u001b[0m\u001b[0;34m)\u001b[0m\u001b[0;34m\u001b[0m\u001b[0m\n\u001b[1;32m     69\u001b[0m \u001b[0;34m\u001b[0m\u001b[0m\n",
      "\u001b[0;31mTypeError\u001b[0m: unsupported operand type(s) for *: 'builtin_function_or_method' and 'int'"
     ]
    }
   ],
   "source": [
    "run_command('小数 1 10 3')"
   ]
  },
  {
   "cell_type": "code",
   "execution_count": null,
   "metadata": {},
   "outputs": [],
   "source": []
  }
 ],
 "metadata": {
  "kernelspec": {
   "display_name": "Python 3",
   "language": "python",
   "name": "python3"
  },
  "language_info": {
   "codemirror_mode": {
    "name": "ipython",
    "version": 3
   },
   "file_extension": ".py",
   "mimetype": "text/x-python",
   "name": "python",
   "nbconvert_exporter": "python",
   "pygments_lexer": "ipython3",
   "version": "3.6.1"
  }
 },
 "nbformat": 4,
 "nbformat_minor": 2
}
