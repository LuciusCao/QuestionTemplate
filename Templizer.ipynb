{
 "cells": [
  {
   "cell_type": "code",
   "execution_count": 113,
   "metadata": {},
   "outputs": [],
   "source": [
    "import os\n",
    "import docx\n",
    "import re\n",
    "import queue"
   ]
  },
  {
   "cell_type": "code",
   "execution_count": 5,
   "metadata": {},
   "outputs": [],
   "source": [
    "BASE_DIR = './test_data/source/ordinary/xjs01060301整数巧算-凑整--直接凑整(1级难度)--方星√√/'"
   ]
  },
  {
   "cell_type": "code",
   "execution_count": 30,
   "metadata": {},
   "outputs": [],
   "source": [
    "DOC_LIST = os.listdir(BASE_DIR)"
   ]
  },
  {
   "cell_type": "code",
   "execution_count": 31,
   "metadata": {},
   "outputs": [
    {
     "data": {
      "text/plain": [
       "['xj01060301整数巧算-凑整--直接凑整--高效学习.docx',\n",
       " 'xj01060301整数巧算-凑整--直接凑整--学习检测.docx',\n",
       " 'xj01060301整数巧算-凑整--直接凑整--先行测试.docx',\n",
       " 'xj01060301整数巧算-凑整--直接凑整--综合测试.docx']"
      ]
     },
     "execution_count": 31,
     "metadata": {},
     "output_type": "execute_result"
    }
   ],
   "source": [
    "DOC_LIST"
   ]
  },
  {
   "cell_type": "code",
   "execution_count": 71,
   "metadata": {},
   "outputs": [],
   "source": [
    "def parse_doc_name(doc_name):\n",
    "    tag_code = re.findall(r'[A-Za-z0-9]+', doc_name)[0]  # need to catch error if doc_name doesn't contains any char\n",
    "    module_name = re.findall(r'[^-]\\w+(?=\\.docx)', doc_name)[0]  # need to catch error if cannot find module name from file name\n",
    "    return tag_code, module_name"
   ]
  },
  {
   "cell_type": "code",
   "execution_count": 118,
   "metadata": {},
   "outputs": [],
   "source": [
    "def resolve_questions(doc_obj):\n",
    "    paragraphs = doc_obj.paragraphs\n",
    "    \n",
    "    for i, p in enumerate(paragraphs):\n",
    "        if p.text.startswith('题目'):\n",
    "            start = i\n",
    "        if p.text.startswith('答案'):\n",
    "            end = i + 1\n",
    "            yield slice(start, end)"
   ]
  },
  {
   "cell_type": "code",
   "execution_count": 124,
   "metadata": {},
   "outputs": [],
   "source": [
    "def templize(target_docx_obj, question, meta):\n",
    "    pass"
   ]
  },
  {
   "cell_type": "code",
   "execution_count": 133,
   "metadata": {},
   "outputs": [],
   "source": [
    "d = docx.Document(os.path.join(BASE_DIR, DOC_LIST[0]))\n",
    "\n",
    "q = queue.deque()\n",
    "for slc in resolve_questions(d):\n",
    "    q.append(slc)\n",
    "    \n",
    "num_questions = len(q)\n",
    "\n",
    "tag_code, module_name = parse_doc_name(DOC_LIST[0])"
   ]
  },
  {
   "cell_type": "code",
   "execution_count": 144,
   "metadata": {},
   "outputs": [],
   "source": [
    "def templize_one_question(doc_obj, tag_code, module_name, num_questions):\n",
    "    target_docx = docx.Document()\n",
    "    \n",
    "    is_mc_question = any(p.text.startswith('选项') for p in doc_obj.paragraphs)\n",
    "    \n",
    "    usage = 2 if num_questions == 2 else 1\n",
    "    \n",
    "    if module_name == '先行测试':\n",
    "        module = 1\n",
    "    elif module_name == '综合测试':\n",
    "        module = 3\n",
    "    else:\n",
    "        module = 2\n",
    "        \n",
    "    target_docx.add_paragraph('【试题开始】')\n",
    "    target_docx.add_paragraph('【题型】{}【/题型】'.format(3))\n",
    "    target_docx.add_paragraph('【展现形式】{}【/展现形式】'.format(102))\n",
    "    target_docx.add_paragraph('【题目形式】{}【/题目形式】'.format(2))\n",
    "    target_docx.add_paragraph('【题目编号】{}【/题目编号】'.format('xjs01060301_g01'))\n",
    "    target_docx.add_paragraph('【题干】{}【/题干】'.format())\n",
    "    \n",
    "    \n",
    "    return target_docx"
   ]
  },
  {
   "cell_type": "code",
   "execution_count": 130,
   "metadata": {},
   "outputs": [],
   "source": [
    "def templize_one_doc(doc_obj, meta, q):\n",
    "    q = queue.deque()\n",
    "    for slc in resolve_questions(doc_obj):\n",
    "        q.append(slc)\n",
    "        \n",
    "    num_questions = len(q)\n",
    "    meta = generate_meta()"
   ]
  },
  {
   "cell_type": "code",
   "execution_count": 141,
   "metadata": {},
   "outputs": [
    {
     "data": {
      "text/plain": [
       "True"
      ]
     },
     "execution_count": 141,
     "metadata": {},
     "output_type": "execute_result"
    }
   ],
   "source": [
    "any(p.text.startswith('题目') for p in d.paragraphs)"
   ]
  },
  {
   "cell_type": "code",
   "execution_count": 142,
   "metadata": {},
   "outputs": [],
   "source": [
    "usage = 2 if True else 1"
   ]
  },
  {
   "cell_type": "code",
   "execution_count": 143,
   "metadata": {},
   "outputs": [
    {
     "data": {
      "text/plain": [
       "2"
      ]
     },
     "execution_count": 143,
     "metadata": {},
     "output_type": "execute_result"
    }
   ],
   "source": [
    "usage"
   ]
  },
  {
   "cell_type": "code",
   "execution_count": 146,
   "metadata": {},
   "outputs": [],
   "source": [
    "a = [1,2,3,4]"
   ]
  },
  {
   "cell_type": "code",
   "execution_count": 147,
   "metadata": {},
   "outputs": [
    {
     "data": {
      "text/plain": [
       "<filter at 0x10c9e09e8>"
      ]
     },
     "execution_count": 147,
     "metadata": {},
     "output_type": "execute_result"
    }
   ],
   "source": [
    "filter(lambda x: x<2, a)"
   ]
  },
  {
   "cell_type": "code",
   "execution_count": 149,
   "metadata": {},
   "outputs": [
    {
     "name": "stdout",
     "output_type": "stream",
     "text": [
      "1\n",
      "2\n"
     ]
    }
   ],
   "source": [
    "for e in filter(lambda x: x<3, a):\n",
    "    print(e)"
   ]
  },
  {
   "cell_type": "code",
   "execution_count": 150,
   "metadata": {},
   "outputs": [],
   "source": [
    "s = '题目：17*25*4='"
   ]
  },
  {
   "cell_type": "code",
   "execution_count": 154,
   "metadata": {},
   "outputs": [],
   "source": [
    "ss = s.split('：', maxsplit=1)"
   ]
  },
  {
   "cell_type": "code",
   "execution_count": 155,
   "metadata": {},
   "outputs": [
    {
     "name": "stdout",
     "output_type": "stream",
     "text": [
      "['题目', '17*25*4=']\n"
     ]
    }
   ],
   "source": [
    "print(ss)"
   ]
  },
  {
   "cell_type": "code",
   "execution_count": 153,
   "metadata": {},
   "outputs": [
    {
     "name": "stdout",
     "output_type": "stream",
     "text": [
      "Help on built-in function split:\n",
      "\n",
      "split(...) method of builtins.str instance\n",
      "    S.split(sep=None, maxsplit=-1) -> list of strings\n",
      "    \n",
      "    Return a list of the words in S, using sep as the\n",
      "    delimiter string.  If maxsplit is given, at most maxsplit\n",
      "    splits are done. If sep is not specified or is None, any\n",
      "    whitespace string is a separator and empty strings are\n",
      "    removed from the result.\n",
      "\n"
     ]
    }
   ],
   "source": [
    "help(s.split)"
   ]
  },
  {
   "cell_type": "code",
   "execution_count": null,
   "metadata": {},
   "outputs": [],
   "source": []
  }
 ],
 "metadata": {
  "kernelspec": {
   "display_name": "Python 3",
   "language": "python",
   "name": "python3"
  },
  "language_info": {
   "codemirror_mode": {
    "name": "ipython",
    "version": 3
   },
   "file_extension": ".py",
   "mimetype": "text/x-python",
   "name": "python",
   "nbconvert_exporter": "python",
   "pygments_lexer": "ipython3",
   "version": "3.6.3"
  }
 },
 "nbformat": 4,
 "nbformat_minor": 2
}
